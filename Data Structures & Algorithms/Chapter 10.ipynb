{
 "cells": [
  {
   "cell_type": "markdown",
   "metadata": {},
   "source": [
    "# Maps, Hash Tables, and Skip Lists\n",
    "\n",
    "Key topics will include:\n",
    "* Maps and Dictionaries\n",
    "* Hash Tables\n",
    "* Sorted Maps\n",
    "* Skip Lists\n",
    "* Sets, Multisets, and Multimaps\n",
    "\n",
    "# Notes"
   ]
  },
  {
   "cell_type": "code",
   "execution_count": 1,
   "metadata": {},
   "outputs": [],
   "source": [
    "# packages and data\n",
    "import pandas as pd, numpy as np"
   ]
  },
  {
   "cell_type": "markdown",
   "metadata": {},
   "source": [
    "## Maps & Dictionaries\n",
    "\n",
    "* Python’s dict class is arguably the most significant data structure in the language. Because of the relationship they express between keys and values, dictionaries are commonly known as associative arrays or maps\n",
    "* Example usage of dictionary features is below:"
   ]
  },
  {
   "cell_type": "code",
   "execution_count": 2,
   "metadata": {},
   "outputs": [
    {
     "name": "stdout",
     "output_type": "stream",
     "text": [
      "{}\n",
      "{'a': '1', 'b': '2'}\n",
      "1\n",
      "dict_keys(['a', 'b'])\n",
      "dict_values(['1', '2'])\n"
     ]
    }
   ],
   "source": [
    "m = {}\n",
    "print(m)\n",
    "\n",
    "# add a key-value pair\n",
    "m['a'] = '1'\n",
    "m['b'] = '2'\n",
    "print(m)\n",
    "\n",
    "# return a value\n",
    "print(m['a'])\n",
    "\n",
    "# get length of dictionary\n",
    "len(m)\n",
    "\n",
    "# get keys\n",
    "print(m.keys())\n",
    "\n",
    "# get values\n",
    "print(m.values())"
   ]
  },
  {
   "cell_type": "code",
   "execution_count": 3,
   "metadata": {},
   "outputs": [
    {
     "data": {
      "text/plain": [
       "{'the': 3,\n",
       " 'end': 1,\n",
       " 'of': 1,\n",
       " 'world': 1,\n",
       " 'was': 2,\n",
       " 'near!': 1,\n",
       " 'there': 1,\n",
       " 'little': 1,\n",
       " 'time': 1,\n",
       " 'and': 1,\n",
       " 'even': 1,\n",
       " 'less': 1,\n",
       " 'hope': 1,\n",
       " '-': 1,\n",
       " 'what': 1,\n",
       " 'must': 1,\n",
       " 'humans': 2,\n",
       " 'do?': 1,\n",
       " 'had': 1,\n",
       " 'caused': 1,\n",
       " 'this': 1,\n",
       " 'anyways': 1}"
      ]
     },
     "execution_count": 3,
     "metadata": {},
     "output_type": "execute_result"
    }
   ],
   "source": [
    "# sample applications of a dictionary\n",
    "# count number of words in a piece of text\n",
    "text = 'THE end of the world was near! There was little time and even less hope - what must the humans do? Humans had caused this anyways'\n",
    "\n",
    "def word_count(t: str):\n",
    "    counts = {}\n",
    "    for i in t.lower().split():\n",
    "        counts[i] = 1 + counts.get(i, 0)\n",
    "\n",
    "    return counts\n",
    "\n",
    "\n",
    "word_count(text)"
   ]
  },
  {
   "cell_type": "markdown",
   "metadata": {},
   "source": [
    "## Hash Tables\n",
    "\n",
    "* A hash table is a data structure that uses a hash function to map keys to values, allowing for fast lookups, insertions, and deletions\n",
    "* The goal of a hash function, h, is to map each key k to an integer in the range [0, N −1], where N is the capacity of the bucket array for a hash table\n",
    "* The hash code for a key k will typically not be suitable for immediate use with a bucket array, because the integer hash code may be negative or may exceed the capacity of the bucket array\n",
    "    * A good compression function is one that minimizes the number of collisions for a given set of distinct hash codes\n",
    "    * Compression functions are of 2 types:\n",
    "        * Division method: which maps an integer i to (i mod N), where N, the size of the bucket array, is a fixed positive integer\n",
    "        * Multiply-Add-and-Divide (or “MAD”) method: maps an integer i to [(ai+b) mod p] mod N, where N is the size of the bucket array, p is a prime number larger than N, and a and b are integers chosen at random from the interval [0, p−1], with a > 0"
   ]
  },
  {
   "cell_type": "markdown",
   "metadata": {},
   "source": [
    "## Sets, Multisets, and Multimaps\n",
    "\n",
    "* A set is an unordered collection of elements, without duplicates, that typically supports efficient membership tests. In essence, elements of a set are like keys of a map, but without any auxiliary values\n",
    "* A multiset (also known as a bag) is a set-like container that allows duplicates\n",
    "* A multimap is similar to a traditional map, in that it associates values with keys; however, in a multimap the same key can be mapped to multiple values. For example, the index of this book maps a given term to one or more locations at which the term occurs elsewhere in the book"
   ]
  },
  {
   "cell_type": "markdown",
   "metadata": {},
   "source": []
  }
 ],
 "metadata": {
  "kernelspec": {
   "display_name": "analytics_data_science",
   "language": "python",
   "name": "python3"
  },
  "language_info": {
   "codemirror_mode": {
    "name": "ipython",
    "version": 3
   },
   "file_extension": ".py",
   "mimetype": "text/x-python",
   "name": "python",
   "nbconvert_exporter": "python",
   "pygments_lexer": "ipython3",
   "version": "3.12.10"
  }
 },
 "nbformat": 4,
 "nbformat_minor": 2
}
