{
 "cells": [
  {
   "cell_type": "markdown",
   "metadata": {},
   "source": [
    "# Sorting & Selection\n",
    "\n",
    "Key topics include:\n",
    "* Merge Sort\n",
    "* Quick Sort\n",
    "* Sorting From An Algorithmic Lens\n",
    "* Comparing Sorting Algorithms\n",
    "* Selection"
   ]
  },
  {
   "cell_type": "code",
   "execution_count": 1,
   "metadata": {},
   "outputs": [],
   "source": [
    "# packages and data\n",
    "import pandas as pd, numpy as np"
   ]
  },
  {
   "cell_type": "markdown",
   "metadata": {},
   "source": [
    "## Merge Sort\n",
    "\n",
    "* Merge sort (and quick sort) use recursion in an algorithmic design patter called divide-and-conquer\n",
    "* The divide-and-conquer pattern consists of the following three steps:\n",
    "    1. Divide: If the input size is smaller than a certain threshold (say, one or two elements), solve the problem directly using a straightforward method and return the solution so obtained. Otherwise, divide the input data into two or more disjoint subsets\n",
    "    2. Conquer: Recursively solve the subproblems associated with the subsets\n",
    "    3. Combine: Take the solutions to the subproblems and merge them into a solution to the original problem\n",
    "\n",
    "* When using divide-and-conquer for sorting:\n",
    "    1. Divide: If S has zero or one element, return S immediately; it is already sorted. Otherwise (S has at least two elements), remove all the elements from S and put them into two sequences, S1 and S2, each containing about half of the elements of S; that is, S1 contains the first  n/2  elements of S, and S2 contains the remaining n/2  elements\n",
    "    2. Conquer: Recursively sort sequences S1 and S2\n",
    "    3. Combine: Put back the elements into S by merging the sorted sequences S1 and S2 into a sorted sequence"
   ]
  },
  {
   "cell_type": "markdown",
   "metadata": {},
   "source": [
    "## Quick Sort\n",
    "\n",
    "* Like merge-sort, this algorithm is also based on the divide-and-conquer paradigm, but it uses this technique in a somewhat opposite manner, as all the hard work is done before the recursive calls\n",
    "* In particular, the quick-sort algorithm consists of the following three steps:\n",
    "    1. Divide: If S has at least two elements (nothing needs to be done if S has zero or one element), select a specific element x from S, which is called the\n",
    "    pivot. As is common practice, choose the pivot x to be the last element in S. Remove all the elements from S and put them into three sequences:\n",
    "    • L, storing the elements in S less than x\n",
    "    • E, storing the elements in S equal to x\n",
    "    • G, storing the elements in S greater than x\n",
    "    Of course, if the elements of S are distinct, then E holds just one element—the pivot itself\n",
    "    2. Conquer: Recursively sort sequences L and G\n",
    "    3. Combine: Put back the elements into S in order by first inserting the elements of L, then those of E, and finally those of G"
   ]
  },
  {
   "cell_type": "markdown",
   "metadata": {},
   "source": [
    "## Selection\n",
    "\n",
    "* In general, queries that ask for an element with a given rank are called order statistics\n",
    "* Selection refers to the process of choosing a specific element (often the smallest or largest, or an element with a particular rank) from a list or array"
   ]
  }
 ],
 "metadata": {
  "kernelspec": {
   "display_name": "analytics_data_science",
   "language": "python",
   "name": "python3"
  },
  "language_info": {
   "codemirror_mode": {
    "name": "ipython",
    "version": 3
   },
   "file_extension": ".py",
   "mimetype": "text/x-python",
   "name": "python",
   "nbconvert_exporter": "python",
   "pygments_lexer": "ipython3",
   "version": "3.12.10"
  }
 },
 "nbformat": 4,
 "nbformat_minor": 2
}
