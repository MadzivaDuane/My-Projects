{
 "cells": [
  {
   "cell_type": "markdown",
   "metadata": {},
   "source": [
    "# Algorithm Analysis\n",
    "\n",
    "Key topics:\n",
    "* Experimental studies\n",
    "* Asymptotic analysis\n",
    "* Simple justification techniques"
   ]
  },
  {
   "cell_type": "code",
   "execution_count": 2,
   "metadata": {},
   "outputs": [
    {
     "data": {
      "text/plain": [
       "[1.0, 1.5, 2.0, 2.5, 3.0]"
      ]
     },
     "execution_count": 2,
     "metadata": {},
     "output_type": "execute_result"
    }
   ],
   "source": [
    "# The quadratic time problem\n",
    "# implementing a prefix average problem and assessing run time\n",
    "def prefix_avg1(s):\n",
    "    \"\"\"resuts list such that, for all j, a[j] equals average of s[0] ..., s[j]\"\"\"\n",
    "    n = len(s)\n",
    "    a = [0]*n\n",
    "\n",
    "    for j in range(n):\n",
    "        total = 0\n",
    "        for i in range(j+1):\n",
    "            total += s[i]\n",
    "        a[j] = total/(j+1)\n",
    "\n",
    "    return a\n",
    "\n",
    "prefix_avg1([1, 2, 3, 4, 5])\n"
   ]
  },
  {
   "cell_type": "code",
   "execution_count": 5,
   "metadata": {},
   "outputs": [
    {
     "data": {
      "text/plain": [
       "[1.0, 1.5, 2.0, 2.5, 3.0]"
      ]
     },
     "execution_count": 5,
     "metadata": {},
     "output_type": "execute_result"
    }
   ],
   "source": [
    "def prefix_avg2(s):\n",
    "    \"\"\"resuts list such that, for all j, a[j] equals average of s[0] ..., s[j]\"\"\"\n",
    "    n = len(s)\n",
    "    a = [0]*n\n",
    "\n",
    "    for j in range(n):\n",
    "        a[j] = sum(s[0: j+1])/(j+1)\n",
    "\n",
    "    return a\n",
    "\n",
    "prefix_avg1([1, 2, 3, 4, 5])"
   ]
  },
  {
   "cell_type": "code",
   "execution_count": 7,
   "metadata": {},
   "outputs": [
    {
     "data": {
      "text/plain": [
       "[1.0, 1.5, 2.0, 2.5, 3.0]"
      ]
     },
     "execution_count": 7,
     "metadata": {},
     "output_type": "execute_result"
    }
   ],
   "source": [
    "def prefix_avg3(s):\n",
    "    \"\"\"resuts list such that, for all j, a[j] equals average of s[0] ..., s[j]\"\"\"\n",
    "    n = len(s)\n",
    "    a = [0]*n\n",
    "    total = 0\n",
    "\n",
    "    for j in range(n):\n",
    "        total += s[j]\n",
    "        a[j] = total/ (j+1)\n",
    "\n",
    "    return a\n",
    "\n",
    "prefix_avg1([1, 2, 3, 4, 5])\n",
    "# this last implementation is more efficient as it has less loops (compared to implementation1)\n",
    "# and compared to 2, does not make use of a function call within a function which is computationally taxing"
   ]
  },
  {
   "cell_type": "code",
   "execution_count": 8,
   "metadata": {},
   "outputs": [
    {
     "data": {
      "text/plain": [
       "True"
      ]
     },
     "execution_count": 8,
     "metadata": {},
     "output_type": "execute_result"
    }
   ],
   "source": [
    "# Another example on improving functions\n",
    "# Three-way set disjointness\n",
    "# objective: determine if the intersection of the three sequences is empty\n",
    "\n",
    "def disjoint1(a, b, c):\n",
    "    \"\"\"return true if there is no common element between 3 lists\"\"\"\n",
    "    for i in a:\n",
    "        for j in b:\n",
    "            for k in c:\n",
    "                if i == j == k:\n",
    "                    return False\n",
    "    return True\n",
    "\n",
    "disjoint1([1, 2, 3], [2, 4, 6], [3, 6, 9])\n",
    "# implementation loops thru individual values of a, b and c looking for a match across all 3\n",
    "# via 3 loops"
   ]
  },
  {
   "cell_type": "code",
   "execution_count": 9,
   "metadata": {},
   "outputs": [
    {
     "data": {
      "text/plain": [
       "True"
      ]
     },
     "execution_count": 9,
     "metadata": {},
     "output_type": "execute_result"
    }
   ],
   "source": [
    "# can be improved by cutting the decisionmaking process\n",
    "# loop into c if there is there is an intersection between a and b\n",
    "def disjoint2(a, b, c):\n",
    "    \"\"\"return true if there is no common element between 3 lists\"\"\"\n",
    "    for i in a:\n",
    "        for j in b:\n",
    "            if i == j: # only go into looping thru c if needed\n",
    "                for k in c:\n",
    "                    if i == k:\n",
    "                        return False\n",
    "    return True\n",
    "\n",
    "disjoint2([1, 2, 3], [2, 4, 6], [3, 6, 9])"
   ]
  }
 ],
 "metadata": {
  "kernelspec": {
   "display_name": "Python 3",
   "language": "python",
   "name": "python3"
  },
  "language_info": {
   "codemirror_mode": {
    "name": "ipython",
    "version": 3
   },
   "file_extension": ".py",
   "mimetype": "text/x-python",
   "name": "python",
   "nbconvert_exporter": "python",
   "pygments_lexer": "ipython3",
   "version": "3.7.3"
  }
 },
 "nbformat": 4,
 "nbformat_minor": 2
}
