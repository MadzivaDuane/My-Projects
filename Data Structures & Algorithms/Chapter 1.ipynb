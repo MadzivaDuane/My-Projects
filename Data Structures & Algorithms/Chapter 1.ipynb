{
 "cells": [
  {
   "cell_type": "markdown",
   "metadata": {},
   "source": [
    "# Python Primer\n",
    "\n",
    "Focusing on the basics of python\n",
    "\n",
    "# Notes\n",
    "\n",
    "## 1. Functions & Generators"
   ]
  },
  {
   "cell_type": "code",
   "execution_count": 4,
   "metadata": {},
   "outputs": [],
   "source": [
    "# packages and data\n",
    "import pandas as pd, numpy as np\n",
    "\n",
    "array_1 = [1, 2, 3, 4, 4, 5, 6, 7, 9, 1]"
   ]
  },
  {
   "cell_type": "code",
   "execution_count": 3,
   "metadata": {},
   "outputs": [
    {
     "data": {
      "text/plain": [
       "1"
      ]
     },
     "execution_count": 3,
     "metadata": {},
     "output_type": "execute_result"
    }
   ],
   "source": [
    "# count occurrences of elements\n",
    "def count_element(data, target):\n",
    "    n = 0\n",
    "    for i in data:\n",
    "        if i == target:\n",
    "            n += 1\n",
    "\n",
    "    return n\n",
    "\n",
    "count_element(array_1, 9)"
   ]
  },
  {
   "cell_type": "code",
   "execution_count": 7,
   "metadata": {},
   "outputs": [
    {
     "data": {
      "text/plain": [
       "{1: 2, 2: 1, 3: 1, 4: 2, 5: 1, 6: 1, 7: 1, 9: 1}"
      ]
     },
     "execution_count": 7,
     "metadata": {},
     "output_type": "execute_result"
    }
   ],
   "source": [
    "# present all elements in an array and their associated counts as a dictionary\n",
    "def count_element_dict(data):\n",
    "    unique = np.unique(data)\n",
    "\n",
    "    output = {}\n",
    "    for i in unique:\n",
    "        output[i] = count_element(data, i)\n",
    "\n",
    "    return output\n",
    "\n",
    "count_element_dict(array_1)"
   ]
  },
  {
   "cell_type": "code",
   "execution_count": 15,
   "metadata": {},
   "outputs": [
    {
     "data": {
      "text/plain": [
       "[1, 2, 4, 5, 10, 20, 25, 50, 100]"
      ]
     },
     "execution_count": 15,
     "metadata": {},
     "output_type": "execute_result"
    }
   ],
   "source": [
    "# generate factors of a number\n",
    "# caveat: we include 1 and the number itself\n",
    "def get_factors(num):\n",
    "    output = []\n",
    "    for i in range(1, num+1):\n",
    "        if (num%i) == 0:\n",
    "            output.append(i)\n",
    "    return output\n",
    "\n",
    "get_factors(100)"
   ]
  },
  {
   "cell_type": "code",
   "execution_count": 16,
   "metadata": {},
   "outputs": [
    {
     "data": {
      "text/plain": [
       "[1, 2, 4, 5, 10, 20, 25, 50, 100]"
      ]
     },
     "execution_count": 16,
     "metadata": {},
     "output_type": "execute_result"
    }
   ],
   "source": [
    "# using list comprehension\n",
    "# generate factors of a number\n",
    "# caveat: we include 1 and the number itself\n",
    "def get_factors(num):\n",
    "    return [i for i in range(1, num+1) if num%i == 0]\n",
    "\n",
    "get_factors(100)"
   ]
  },
  {
   "cell_type": "markdown",
   "metadata": {},
   "source": [
    "# Exercises\n",
    "\n",
    "## 1. Reinforcement"
   ]
  },
  {
   "cell_type": "code",
   "execution_count": 2,
   "metadata": {},
   "outputs": [
    {
     "data": {
      "text/plain": [
       "False"
      ]
     },
     "execution_count": 2,
     "metadata": {},
     "output_type": "execute_result"
    }
   ],
   "source": [
    "\"\"\"\n",
    "Write a short Python function, is multiple(n, m), that takes two integer\n",
    "values and returns True if n is a multiple of m, that is, n = mi for some\n",
    "integer i, and False otherwise\n",
    "\"\"\"\n",
    "\n",
    "def multiple(n, m):\n",
    "    return m%n == 0\n",
    "\n",
    "multiple(5, 11)\n"
   ]
  },
  {
   "cell_type": "code",
   "execution_count": 10,
   "metadata": {},
   "outputs": [
    {
     "name": "stdout",
     "output_type": "stream",
     "text": [
      "Enter a positive integer\n"
     ]
    }
   ],
   "source": [
    "\"\"\"\n",
    "Write a short Python function that takes a positive integer n and returns\n",
    "the sum of the squares of all the positive integers smaller than n.\n",
    "\"\"\"\n",
    "def sum_squares_under_n(n):\n",
    "    if (n < 1):\n",
    "        output = print('Enter a positive integer')\n",
    "    else:\n",
    "        output =  sum([i*i for i in range(n)])\n",
    "    return output\n",
    "\n",
    "sum_squares_under_n(-4)"
   ]
  },
  {
   "cell_type": "code",
   "execution_count": 16,
   "metadata": {},
   "outputs": [
    {
     "data": {
      "text/plain": [
       "[1, 2, 4, 8, 16, 32, 64, 128, 256]"
      ]
     },
     "execution_count": 16,
     "metadata": {},
     "output_type": "execute_result"
    }
   ],
   "source": [
    "\"\"\"\n",
    "Demonstrate how to use Python’s list comprehension syntax to produce\n",
    "the list [1, 2, 4, 8, 16, 32, 64, 128, 256].\n",
    "\"\"\"\n",
    "# not list compre\n",
    "n = 1\n",
    "output = [n]\n",
    "for i in range(8):\n",
    "    n = n*2\n",
    "    output.append(n)\n",
    "\n",
    "output\n",
    "\n"
   ]
  },
  {
   "cell_type": "markdown",
   "metadata": {},
   "source": [
    "## 2. Creativity"
   ]
  },
  {
   "cell_type": "code",
   "execution_count": 12,
   "metadata": {},
   "outputs": [
    {
     "data": {
      "text/plain": [
       "[6, 7, 4, 1, 2]"
      ]
     },
     "execution_count": 12,
     "metadata": {},
     "output_type": "execute_result"
    }
   ],
   "source": [
    "\"\"\"\n",
    "Write a pseudo-code description of a function that reverses a list of n\n",
    "integers, so that the numbers are listed in the opposite order than they\n",
    "were before\n",
    "\"\"\"\n",
    "arr = [1, 3, 5, 7, 9]\n",
    "arr = [2, 1, 4, 7, 6]\n",
    "\n",
    "def reversor(j):\n",
    "    dict = {}\n",
    "    for i in j:\n",
    "        dict[j.index(i)] = i\n",
    "\n",
    "    return [value for key, value in sorted(dict.items(), reverse = True)]\n",
    "\n",
    "reversor(arr)"
   ]
  },
  {
   "cell_type": "code",
   "execution_count": 22,
   "metadata": {},
   "outputs": [
    {
     "name": "stdout",
     "output_type": "stream",
     "text": [
      "There are no duplicates\n"
     ]
    }
   ],
   "source": [
    "\"\"\"\n",
    "Write a Python function that takes a sequence of numbers and determines\n",
    "if all the numbers are different from each other (that is, they are distinct)\n",
    "\"\"\"\n",
    "def distinct(j):\n",
    "    if len(j) == len(list(set(j))):\n",
    "        output = 'There are no duplicates'\n",
    "    else:\n",
    "        output = 'There are duplicates'\n",
    "    return print(output)\n",
    "\n",
    "distinct([1, 2, 3, 6, 9])"
   ]
  },
  {
   "cell_type": "code",
   "execution_count": 41,
   "metadata": {},
   "outputs": [
    {
     "data": {
      "text/plain": [
       "[0, 2, 6, 12, 20, 30, 42, 56, 72, 90]"
      ]
     },
     "execution_count": 41,
     "metadata": {},
     "output_type": "execute_result"
    }
   ],
   "source": [
    "\"\"\"\n",
    "Demonstrate how to use Python’s list comprehension syntax to produce\n",
    "the list [0, 2, 6, 12, 20, 30, 42, 56, 72, 90].\n",
    "\"\"\"\n",
    "\n",
    "arr = [0, 1, 2, 3, 4, 5, 6, 7, 8, 9, 10]\n",
    "[arr[i]*arr[i+1] for i in range(len(arr)-1)]"
   ]
  },
  {
   "cell_type": "code",
   "execution_count": 45,
   "metadata": {},
   "outputs": [
    {
     "name": "stdout",
     "output_type": "stream",
     "text": [
      "Number of non-distinct vowels: 8\n"
     ]
    }
   ],
   "source": [
    "\"\"\"\n",
    "Write a short Python function that counts the number of vowels in a given\n",
    "character string.\n",
    "\"\"\"\n",
    "def vowel_counter(j):\n",
    "    vowels = ['a', 'e', 'i', 'o', 'u']\n",
    "\n",
    "    n = 0\n",
    "    for i in j:\n",
    "        if i in vowels:\n",
    "            n +=1\n",
    "    return print(f'Number of non-distinct vowels: {n}')\n",
    "vowel_counter('sauromakuruwane')"
   ]
  },
  {
   "cell_type": "code",
   "execution_count": 46,
   "metadata": {},
   "outputs": [
    {
     "name": "stdout",
     "output_type": "stream",
     "text": [
      "Intergers meet mathematical formulas\n"
     ]
    }
   ],
   "source": [
    "\"\"\"\n",
    "Write a short program that takes as input three integers, a, b, and c, from\n",
    "the console and determines if they can be used in a correct arithmetic\n",
    "formula (in the given order), like “a+b = c,” “a = b−c,” or “a ∗ b = c.”\n",
    "\"\"\"\n",
    "\n",
    "def this_has_to_be_wrong(a, b, c):\n",
    "    if (a+b ==c) & (a == b-c) & (a*b ==c):\n",
    "        output = 'Intergers meet mathematical formulas'\n",
    "    else:\n",
    "        output = 'Try again'\n",
    "\n",
    "    return print(output)\n",
    "\n",
    "this_has_to_be_wrong(0, 0, 0)"
   ]
  },
  {
   "cell_type": "markdown",
   "metadata": {},
   "source": [
    "## 3. Projects"
   ]
  },
  {
   "cell_type": "code",
   "execution_count": 55,
   "metadata": {},
   "outputs": [
    {
     "data": {
      "text/plain": [
       "2"
      ]
     },
     "execution_count": 55,
     "metadata": {},
     "output_type": "execute_result"
    }
   ],
   "source": [
    "\"\"\"\n",
    "Write a Python program that can take a positive integer greater than 2 as\n",
    "input and write out the number of times one must repeatedly divide this\n",
    "number by 2 before getting a value less than 2.\n",
    "\"\"\"\n",
    "\n",
    "def two_divisor_counter(j):\n",
    "    n = 0\n",
    "    while j/2 > 2:\n",
    "        j = j/2\n",
    "        n += 1\n",
    "    return n\n",
    "\n",
    "two_divisor_counter(10)"
   ]
  }
 ],
 "metadata": {
  "kernelspec": {
   "display_name": "Python 3",
   "language": "python",
   "name": "python3"
  },
  "language_info": {
   "codemirror_mode": {
    "name": "ipython",
    "version": 3
   },
   "file_extension": ".py",
   "mimetype": "text/x-python",
   "name": "python",
   "nbconvert_exporter": "python",
   "pygments_lexer": "ipython3",
   "version": "3.7.3"
  }
 },
 "nbformat": 4,
 "nbformat_minor": 2
}
