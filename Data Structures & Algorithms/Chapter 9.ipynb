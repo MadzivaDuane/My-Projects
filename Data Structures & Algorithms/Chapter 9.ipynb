{
 "cells": [
  {
   "cell_type": "markdown",
   "metadata": {},
   "source": [
    "# Priority Queues\n",
    "\n",
    "Key topics will include:\n",
    "* Priority Queue Abstract Data Type\n",
    "* Heaps\n",
    "* Sorting with a Priority Queue\n",
    "* Adaptable Priority Queues\n",
    "\n",
    "# Notes"
   ]
  },
  {
   "cell_type": "code",
   "execution_count": 1,
   "metadata": {},
   "outputs": [],
   "source": [
    "# packages and data\n",
    "import pandas as pd, numpy as np"
   ]
  },
  {
   "cell_type": "markdown",
   "metadata": {},
   "source": [
    "## Priority Queue Data Type\n",
    "\n",
    "* Is a collection of prioritized elements that allows arbitrary element insertion, and allows the removal of the element that has first priority\n",
    "    * This data type, in opposition to the queue ADT (a collection of objects that are added and removed according to the first-in, first-out (FIFO) principle) is useful when a first-in, first-out policy does not suffice\n",
    "* When an element is added to a priority queue, the user designates its priority by providing an associated key. The element with the minimum key will be the next to be removed from the queue (thus, an element with key 1 will be given priority over an element with key 2)"
   ]
  },
  {
   "cell_type": "markdown",
   "metadata": {},
   "source": [
    "# Implementing A Priority Queue On An Unsorted Vs Sorted List\n",
    "\n",
    "* An unsorted list supports fast insertions but slow queries and deletions, whereas a sorted list allows fast queries and deletions, but slow insertions\n",
    "    * With unsorted lists, the main challenge is locating the minimum key, because the items are not sorted, we must inspect all entries to find one with a minimum key\n",
    "    * With sorted lists, the main challenge is scanning the sorted list to find a position to insert a new element., since the eventual output needs to always be sorted"
   ]
  },
  {
   "cell_type": "markdown",
   "metadata": {},
   "source": [
    "# Heaps\n",
    "\n",
    "* Binary heaps provide a more efficient realization of a priority queue; this data structure allows us to perform both insertions and removals in logarithmic time, which is a significant improvement over the list-based implementations\n",
    "* A heap is a binary tree T that stores a collection of items at its positions and that satisfies two additional properties: a relational property defined in terms of the way keys are stored in T and a structural property defined in terms of the shape of T itself\n",
    "    * Heap-Order Property: In a heap T, for every position p other than the root, the key stored at p is greater than or equal to the key stored at p’s parent\n",
    "    * Complete Binary Tree Property: A heap T with height h is a complete binary tree if levels 0,1,2, . . . ,h−1 of T have the maximum number of nodes possible (namely, level i has 2i nodes, for 0 ≤ i ≤ h−1) and the remaining nodes at level h reside in the leftmost possible positions at that level"
   ]
  },
  {
   "cell_type": "markdown",
   "metadata": {},
   "source": [
    "# Exercises"
   ]
  }
 ],
 "metadata": {
  "kernelspec": {
   "display_name": "Python 3",
   "language": "python",
   "name": "python3"
  },
  "language_info": {
   "codemirror_mode": {
    "name": "ipython",
    "version": 3
   },
   "file_extension": ".py",
   "mimetype": "text/x-python",
   "name": "python",
   "nbconvert_exporter": "python",
   "pygments_lexer": "ipython3",
   "version": "3.7.3"
  }
 },
 "nbformat": 4,
 "nbformat_minor": 2
}
