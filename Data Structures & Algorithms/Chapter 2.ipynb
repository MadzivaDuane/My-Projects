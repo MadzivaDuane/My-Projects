{
 "cells": [
  {
   "cell_type": "markdown",
   "metadata": {},
   "source": [
    "# Object-Oriented Programming\n",
    "\n",
    "Key topics:\n",
    "* Goals, Principles and Patterns\n",
    "* Software Development\n",
    "* Class Definitions\n",
    "* Inheritence\n",
    "* Shallow & Deep Coping"
   ]
  },
  {
   "cell_type": "markdown",
   "metadata": {},
   "source": [
    "## CreditCard Class"
   ]
  },
  {
   "cell_type": "code",
   "execution_count": 1,
   "metadata": {},
   "outputs": [
    {
     "name": "stdout",
     "output_type": "stream",
     "text": [
      "Bank limit: 1000\n"
     ]
    }
   ],
   "source": [
    "class CreditCard:\n",
    "    \"\"\"A consumer credit card.\"\"\"\n",
    "\n",
    "    def __init__(self, customer, bank, acnt, limit):\n",
    "        \"\"\"\n",
    "        Create a new credit card instance.\n",
    "        \n",
    "        The initial balance is zero.\n",
    "\n",
    "        customer: name of customer\n",
    "        bank: name of bank\n",
    "        acnt: account identifier\n",
    "        limit: credit limit in dollars\n",
    "        \"\"\"\n",
    "        self._customer = customer\n",
    "        self._bank = bank\n",
    "        self._acnt = acnt\n",
    "        self._limit = limit\n",
    "        self._balance = 0\n",
    "\n",
    "    def get_customer(self):\n",
    "        return self._customer\n",
    "    \n",
    "    def get_bank(self):\n",
    "        return self._bank\n",
    "    \n",
    "    def get_account(self):\n",
    "        return self._acnt\n",
    "    \n",
    "    def get_limit(self):\n",
    "        return self._limit\n",
    "    \n",
    "    def get_balance(self):\n",
    "        return self._balance\n",
    "    \n",
    "    def charge(self, price):\n",
    "        \"\"\"Charge given price assuming sufficient credit\"\"\"\n",
    "        if self._balance + price > self._limit:\n",
    "            return False # charge exceeds limit\n",
    "        else:\n",
    "            self._balance + price\n",
    "            return True\n",
    "        \n",
    "    def make_payment(self, amount):\n",
    "        self._balance -= amount\n",
    "\n",
    "\n",
    "duane_cc = CreditCard('Kuku', 'RBC', '111 222 333 444', 1000)"
   ]
  },
  {
   "cell_type": "code",
   "execution_count": 6,
   "metadata": {},
   "outputs": [
    {
     "name": "stdout",
     "output_type": "stream",
     "text": [
      "Customer:  John Bowman\n",
      "Bank:  California Savings\n",
      "Account:  5391 0375 9387 5309\n",
      "Limit:  2500\n",
      "Balance:  0\n",
      "\n",
      "Customer:  John Bowman\n",
      "Bank:  California Federal\n",
      "Account:  3485 0399 3395 1954\n",
      "Limit:  3500\n",
      "Balance:  0\n",
      "\n",
      "Customer:  John Bowman\n",
      "Bank:  California Finance\n",
      "Account:  5391 0375 9387 5309\n",
      "Limit:  5000\n",
      "Balance:  0\n",
      "\n"
     ]
    }
   ],
   "source": [
    "# Testing the CreditCard class\n",
    "\n",
    "if __name__ == '__main__':\n",
    "    wallet = [ ]\n",
    "    wallet.append(CreditCard('John Bowman', 'California Savings',\n",
    "    '5391 0375 9387 5309', 2500))\n",
    "    wallet.append(CreditCard('John Bowman', 'California Federal',\n",
    "    '3485 0399 3395 1954', 3500))\n",
    "    wallet.append(CreditCard('John Bowman', 'California Finance',\n",
    "    '5391 0375 9387 5309', 5000))\n",
    "\n",
    "    for val in range(1, 17):\n",
    "        wallet[0].charge(val)\n",
    "        wallet[1].charge(val)\n",
    "        wallet[2].charge(val)\n",
    "\n",
    "    for c in range(3):\n",
    "        print('Customer: ', wallet[c].get_customer())\n",
    "        print('Bank: ', wallet[c].get_bank())\n",
    "        print('Account: ', wallet[c].get_account())\n",
    "        print('Limit: ', wallet[c].get_limit())\n",
    "        print('Balance: ', wallet[c].get_balance())\n",
    "\n",
    "        while wallet[c].get_balance() > 100:\n",
    "            wallet[c].make_payment(100)\n",
    "            print('New Balanace: ', wallet[c].get_balance())\n",
    "        print()"
   ]
  },
  {
   "cell_type": "markdown",
   "metadata": {},
   "source": [
    "## Multideminesional Vector Class\n",
    "\n",
    "Issue: python does not view vectors the same way we see them, and using lists, while tempting, produces incorect results:\n",
    "* [1, 2, 3] + [4, 5, 6] = [1, 2, 3, 4, 5, 6] rather than the desired vector sum [5, 7, 9]\n",
    "\n",
    "In principle, the Vector class should support the following behaviors:\n",
    "* v = Vector(5) # construct five-dimensional <0, 0, 0, 0, 0>\n",
    "* v[1] = 23 # <0, 23, 0, 0, 0> (based on use of setitem )\n",
    "* v[−1] = 45 # <0, 23, 0, 0, 45> (also via setitem )\n",
    "* print(v[4]) # print 45 (via getitem )\n",
    "* u = v + v # <0, 46, 0, 0, 90> (via add )\n",
    "* print(u) # print <0, 46, 0, 0, 90>\n",
    "* total = 0\n",
    "    - for entry in v: # implicit iteration via len and getitem\n",
    "    - total += entry"
   ]
  },
  {
   "cell_type": "code",
   "execution_count": 12,
   "metadata": {},
   "outputs": [
    {
     "data": {
      "text/plain": [
       "3"
      ]
     },
     "execution_count": 12,
     "metadata": {},
     "output_type": "execute_result"
    }
   ],
   "source": [
    "class Vector:\n",
    "    \"\"\"represents a vector in a multidimensional space\"\"\"\n",
    "    def __init__(self, d):\n",
    "        \"\"\"creates a d-dimensional vector of zeros\"\"\"\n",
    "        self._coords = [0]*d\n",
    "\n",
    "    def __len__(self):\n",
    "        \"\"\"return the vector dimensions\"\"\"\n",
    "        return len(self._coords)\n",
    "    \n",
    "    def __getitem__(self, j):\n",
    "        \"\"\"returns jth coordinate of a vector\"\"\"\n",
    "        return self._coords[j]\n",
    "\n",
    "    def __setitem__(self, j, val):\n",
    "        \"set jth coordinate of vector to a given value\"\"\"\n",
    "        self._coords[j] = val\n",
    "\n",
    "    def __add__(self, other):\n",
    "        \"\"\"return sum of 2 vectors\"\"\"\n",
    "        if len(self) != len(other):\n",
    "            raise ValueError('dimensions must agree')\n",
    "        \n",
    "        result = Vector(len(self)) # start with the vector of zeros\n",
    "        for j in range(len(self)):\n",
    "            result[j] = self[j] + other[j]\n",
    "\n",
    "            return result\n",
    "        \n",
    "    def __eq__(self, other):\n",
    "        \"\"\"returns true if the vector has the same coordinates as the other\"\"\"\n",
    "        return self._coords == other\n",
    "    \n",
    "    def __ne__(self, other):\n",
    "        \"\"\"returns true of the vector differs from the other\"\"\"\n",
    "        return not self == other # relies on the existing __eq__definition\n",
    "    \n",
    "    def __str__(self):\n",
    "        \"\"\"returns string representation of vector\"\"\"\n",
    "        return '<' + str(self._coords)[1: -1] + '>'\n",
    "    \n",
    "v = Vector(3)\n",
    "v.__len__()"
   ]
  }
 ],
 "metadata": {
  "kernelspec": {
   "display_name": "Python 3",
   "language": "python",
   "name": "python3"
  },
  "language_info": {
   "codemirror_mode": {
    "name": "ipython",
    "version": 3
   },
   "file_extension": ".py",
   "mimetype": "text/x-python",
   "name": "python",
   "nbconvert_exporter": "python",
   "pygments_lexer": "ipython3",
   "version": "3.7.3"
  }
 },
 "nbformat": 4,
 "nbformat_minor": 2
}
