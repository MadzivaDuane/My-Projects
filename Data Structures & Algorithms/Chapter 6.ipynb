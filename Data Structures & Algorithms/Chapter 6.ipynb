{
 "cells": [
  {
   "cell_type": "markdown",
   "metadata": {},
   "source": [
    "# Stacks, Queues and Deques\n",
    "\n",
    "Key topics:\n",
    "* The Stack Abstract Data Type\n",
    "* Simple Array Based StackImplementation\n",
    "* HTML Tags\n",
    "* Array Based Queue Implemntation\n",
    "* Implementing A Deque With A Circular Array\n",
    "\n",
    "## Stacks\n",
    "A stack is a collection of objects that are inserted and removed according to the last-in, first-out (LIFO) principle. Some example uses in technology:\n",
    "* Example 1: Internet Web browsers store the addresses of recently visited sites in a stack. Each time a user visits a new site, that site’s address is “pushed” onto the stack of addresses. The browser then allows the user to “pop” back to previously visited sites using the “back” button.\n",
    "* Example 2: Text editors usually provide an “undo” mechanism that cancels recent editing operations and reverts to former states of a document. This undo operation can be accomplished by keeping text changes in a stack\n",
    "\n",
    "### Inplementing A Stack Using A Python List"
   ]
  },
  {
   "cell_type": "code",
   "execution_count": 2,
   "metadata": {},
   "outputs": [],
   "source": [
    "class Empty(Exception):\n",
    "    \"\"\"Error attempting to access an element from an empty container\"\"\"\n",
    "    pass\n",
    "\n",
    "class ArrayStack():\n",
    "    \"\"\"A stack class built upon a list\"\"\"\n",
    "\n",
    "    def __init__(self):\n",
    "        \"\"\"create an empty stack\"\"\"\n",
    "        self._data = []\n",
    "\n",
    "    def __len__(self):\n",
    "        \"\"\"returns the length of the stack\"\"\"\n",
    "        return len(self._data)\n",
    "    \n",
    "    def is_empty(self):\n",
    "        \"\"\"returns a boolean value for whether a stack is empty or not\"\"\"\n",
    "        return len(self._data) == 0\n",
    "    \n",
    "    def push(self, e):\n",
    "        \"\"\"adds a new element to the stack at the end of the list\"\"\"\n",
    "        return self._data.append(e)\n",
    "    \n",
    "    def top(self):\n",
    "        \"\"\"returns the top element of the stack\"\"\"\n",
    "        if self.is_empty():\n",
    "            raise Empty('Stack is empty')\n",
    "        return self._data[-1]\n",
    "    \n",
    "    def pop(self):\n",
    "        \"\"\"remove and return the element at the top of the stack\"\"\"\n",
    "        if self.is_empty():\n",
    "            raise Empty('Stack is empty')\n",
    "        return self._data.pop()"
   ]
  },
  {
   "cell_type": "code",
   "execution_count": 4,
   "metadata": {},
   "outputs": [],
   "source": [
    "s = ArrayStack()\n",
    "\n",
    "s.is_empty()\n",
    "\n",
    "s.push(3)"
   ]
  },
  {
   "cell_type": "markdown",
   "metadata": {},
   "source": [
    "## Queues\n",
    "\n",
    "Another fundamental data structure is the queue. It is a close “cousin” of the stack, as a queue is a collection of objects that are inserted and removed according to the first-in, first-out (FIFO) principle. That is, elements can be inserted at any time, but only the element that has been in the queue the longest can be next removed"
   ]
  },
  {
   "cell_type": "markdown",
   "metadata": {},
   "source": []
  }
 ],
 "metadata": {
  "kernelspec": {
   "display_name": "Python 3",
   "language": "python",
   "name": "python3"
  },
  "language_info": {
   "codemirror_mode": {
    "name": "ipython",
    "version": 3
   },
   "file_extension": ".py",
   "mimetype": "text/x-python",
   "name": "python",
   "nbconvert_exporter": "python",
   "pygments_lexer": "ipython3",
   "version": "3.7.3"
  }
 },
 "nbformat": 4,
 "nbformat_minor": 2
}
