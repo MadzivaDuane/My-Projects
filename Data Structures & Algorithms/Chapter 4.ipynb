{
 "cells": [
  {
   "cell_type": "markdown",
   "metadata": {},
   "source": [
    "# Recursions\n",
    "\n",
    "Key topics:\n",
    "* The Factorial Function\n",
    "* The English Rule\n",
    "* Binary Search\n",
    "* File Systems"
   ]
  },
  {
   "cell_type": "code",
   "execution_count": 6,
   "metadata": {},
   "outputs": [],
   "source": [
    "import numpy as np"
   ]
  },
  {
   "cell_type": "code",
   "execution_count": 24,
   "metadata": {},
   "outputs": [
    {
     "data": {
      "text/plain": [
       "120"
      ]
     },
     "execution_count": 24,
     "metadata": {},
     "output_type": "execute_result"
    }
   ],
   "source": [
    "# the factorial function\n",
    "# for loop\n",
    "\n",
    "def factorial(n):\n",
    "    i = 1\n",
    "    for num in range(1, n+1):\n",
    "        i *= num\n",
    "    return i\n",
    "\n",
    "factorial(5)"
   ]
  },
  {
   "cell_type": "code",
   "execution_count": 25,
   "metadata": {},
   "outputs": [
    {
     "data": {
      "text/plain": [
       "120"
      ]
     },
     "execution_count": 25,
     "metadata": {},
     "output_type": "execute_result"
    }
   ],
   "source": [
    "# recursive function\n",
    "def factorial(n):\n",
    "    if n == 0:\n",
    "        return 1\n",
    "    else:\n",
    "        return n*factorial(n-1)\n",
    "    \n",
    "factorial(5)"
   ]
  },
  {
   "cell_type": "code",
   "execution_count": 42,
   "metadata": {},
   "outputs": [
    {
     "name": "stdout",
     "output_type": "stream",
     "text": [
      "--- 0\n",
      "-\n",
      "--\n",
      "-\n",
      "--- 1\n",
      "-\n",
      "--\n",
      "-\n",
      "--- 2\n"
     ]
    }
   ],
   "source": [
    "# the english rule\n",
    "# recursive approach\n",
    "def draw_line(tick_length, tick_label = ''):\n",
    "    \"\"\"Draw one line with given tick length (followed by optional label)\"\"\"\n",
    "    line = '-' * tick_length\n",
    "    if tick_label:\n",
    "        line += ' ' + tick_label\n",
    "    print(line)\n",
    "\n",
    "def draw_interval(center_length):\n",
    "    \"\"\"Draw tick interval based upon a central tick length\"\"\"\n",
    "    if center_length > 0: # stop when length drops to 0\n",
    "        draw_interval(center_length - 1) # recursively draw top ticks\n",
    "        draw_line(center_length) # draw center tic\n",
    "        draw_interval(center_length - 1) # recursively draw bottom ticks\n",
    "\n",
    "def draw_ruler(num_inches, major_length):\n",
    "    \"\"\"Draw English ruler with given number of inches, major tick length\"\"\"\n",
    "    draw_line(major_length, '0')\n",
    "    for j in range(1, 1 + num_inches):\n",
    "        draw_interval(major_length - 1)\n",
    "        draw_line(major_length, str(j))\n",
    "\n",
    "draw_ruler(2, 3)"
   ]
  },
  {
   "cell_type": "code",
   "execution_count": 56,
   "metadata": {},
   "outputs": [
    {
     "data": {
      "text/plain": [
       "True"
      ]
     },
     "execution_count": 56,
     "metadata": {},
     "output_type": "execute_result"
    }
   ],
   "source": [
    "# binary search\n",
    "# used to efficiently locate a target value within a sorted sequence of n elements\n",
    "def binary_search(data, target, low, high):\n",
    "    \"\"\"\n",
    "    Return True if target is found in indicated portion of a Python list\n",
    "    The search only considers the portion from data[low] to data[high] inclusive\n",
    "    \"\"\"\n",
    "\n",
    "    if low > high:\n",
    "        return False\n",
    "    else:\n",
    "        mid = (low + high)//2\n",
    "        if target ==  data[mid]:\n",
    "            return True\n",
    "        elif target < data[mid]:\n",
    "            # recur on the lower portion of mid\n",
    "            return binary_search(data, target, low, mid-1)\n",
    "        else:\n",
    "            # recur on the upper portion of mid\n",
    "            return binary_search(data, target, mid+1, high)\n",
    "        \n",
    "binary_search(\n",
    "    [1, 3, 4, 5, 6, 7, 9, 12],\n",
    "    3,\n",
    "    1,\n",
    "    12\n",
    ")"
   ]
  }
 ],
 "metadata": {
  "kernelspec": {
   "display_name": "Python 3",
   "language": "python",
   "name": "python3"
  },
  "language_info": {
   "codemirror_mode": {
    "name": "ipython",
    "version": 3
   },
   "file_extension": ".py",
   "mimetype": "text/x-python",
   "name": "python",
   "nbconvert_exporter": "python",
   "pygments_lexer": "ipython3",
   "version": "3.7.3"
  }
 },
 "nbformat": 4,
 "nbformat_minor": 2
}
