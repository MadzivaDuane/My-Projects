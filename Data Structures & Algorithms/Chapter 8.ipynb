{
 "cells": [
  {
   "cell_type": "markdown",
   "metadata": {},
   "source": [
    "# Trees\n",
    "\n",
    "Key topics will include:\n",
    "* General Trees\n",
    "* Binary Trees\n",
    "* Implementing Trees\n",
    "* Tree Traversal Algorithms\n",
    "\n",
    "# Notes"
   ]
  },
  {
   "cell_type": "code",
   "execution_count": 1,
   "metadata": {},
   "outputs": [],
   "source": [
    "# packages and data\n",
    "import pandas as pd, numpy as np"
   ]
  },
  {
   "cell_type": "markdown",
   "metadata": {},
   "source": [
    "## General Trees\n",
    "\n",
    "* Trees are a non-linear data structure in computing which offer a richer organizational structure compared to the before & after structure offered by linear data structures such as lists\n",
    "* A tree is an abstract data type that stores elements hierarchically\n",
    "* Two nodes that are children of the same parent are siblings. A node v is external if v has no children. A node v is internal if it has one or more children.External nodes are also known as leaves\n",
    "\n",
    "## Ordered Trees\n",
    "* A tree is ordered if there is a meaningful linear order among the children of each node; that is, we purposefully identify the children of a node as being the first, second, third, and so on\n",
    "\n",
    "## Binary Trees\n",
    "* A binary tree is an ordered tree with the following properties:\n",
    "    * Every node has at most two children\n",
    "    * Each child node is labeled as being either a left child or a right child\n",
    "    * A left child precedes a right child in the order of children of a node"
   ]
  },
  {
   "cell_type": "markdown",
   "metadata": {},
   "source": [
    "# Exercises"
   ]
  },
  {
   "cell_type": "markdown",
   "metadata": {},
   "source": []
  }
 ],
 "metadata": {
  "kernelspec": {
   "display_name": "Python 3",
   "language": "python",
   "name": "python3"
  },
  "language_info": {
   "codemirror_mode": {
    "name": "ipython",
    "version": 3
   },
   "file_extension": ".py",
   "mimetype": "text/x-python",
   "name": "python",
   "nbconvert_exporter": "python",
   "pygments_lexer": "ipython3",
   "version": "3.7.3"
  }
 },
 "nbformat": 4,
 "nbformat_minor": 2
}
