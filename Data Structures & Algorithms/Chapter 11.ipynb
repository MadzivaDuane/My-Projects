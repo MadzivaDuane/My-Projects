{
 "cells": [
  {
   "cell_type": "markdown",
   "metadata": {},
   "source": [
    "# Search Trees\n",
    "\n",
    "Key topics include:\n",
    "* Binary Search Trees\n",
    "* Balanced Search Trees\n",
    "* AVL Trees\n",
    "* Splay Trees\n",
    "* (2,4) Trees\n",
    "* Red-Black Trees"
   ]
  },
  {
   "cell_type": "code",
   "execution_count": 1,
   "metadata": {},
   "outputs": [],
   "source": [
    "# packages and data\n",
    "import pandas as pd, numpy as np"
   ]
  },
  {
   "cell_type": "markdown",
   "metadata": {},
   "source": [
    "## Binary Search Trees\n",
    "\n",
    "* Binary trees are an excellent data structure for storing items of a map, assuming we have an order relation defined on the keys\n",
    "* In this context, a binary search tree is a binary tree T with each position p storing a key-value pair (k,v) such that:\n",
    "    * Keys stored in the left subtree of p are less than k\n",
    "    * Keys stored in the right subtree of p are greater than k\n",
    "* The most important consequence of the structural property of a binary search tree is its namesake search algorithm. We can attempt to locate a particular key in a binary search tree by viewing it as a decision tree\n",
    "\n",
    "\n",
    "## Insertions & Deletions\n",
    "### Insertions\n",
    "* The map command M[k] = v, as supported by the setitem method, begins with a search for key k (assuming the map is nonempty). If found, that item’s existing value is reassigned. Otherwise, a node for the new item can be inserted into the underlying tree T in place of the empty subtree that was reached at the end of the failed search\n",
    "\n",
    "### Deletions\n",
    "* Deleting an item from a binary search tree T is a bit more complex than inserting a new item because the location of the deletion might be anywhere in the tree\n",
    "    * Simplest case scenario is a node with 1 child - the node is deleted and replaced with its child\n",
    "    * Worst case scenario is a node with 2 children, its deletion would leave 2 orphaned children"
   ]
  },
  {
   "cell_type": "markdown",
   "metadata": {},
   "source": [
    "## Performance Of A Binary Tree\n",
    "* A binary search tree an efficient implementation of a map with n entries only if its height is small\n",
    "* If we could assume a random series of insertions and removals, the standard binary search tree supports O(logn) expected running times for the basic map operations. However, we may only claim O(n) worst-case time, because some sequences of operations may lead to an unbalanced tree with height proportional to n\n",
    "* In the remainder of this chapter, we explore four search tree algorithms that provide stronger performance guarantees. Three of the four data structures (AVL\n",
    "trees, splay trees, and red-black trees) are based on augmenting a standard binary search tree with occasional operations to reshape the tree and reduce its height\n",
    "    * The primary operation to rebalance a binary search tree is known as a rotation - during a rotation, we “rotate” a child to be above its parent"
   ]
  },
  {
   "cell_type": "markdown",
   "metadata": {},
   "source": [
    "## Balanced Search Trees\n",
    "\n",
    "* The primary operation to rebalance a binary search tree is known as a rotation. During a rotation, we rotate a child to be above its parent\n",
    "* Because a single rotation modifies a constant number of parent-child relationships, it can be implemented in O(1) time with a linked binary tree representation"
   ]
  },
  {
   "cell_type": "markdown",
   "metadata": {},
   "source": [
    "## AVL Trees\n",
    "\n",
    "* The TreeMap class, which uses a standard binary search tree as its data structure, should be an efficient map data structure, but its worst-case performance for the\n",
    "various operations is linear time, because it is possible that a series of operations results in a tree with linear height\n",
    "* Any binary search tree T that satisfies the height-balance property is said to be an AVL tree, named after the initials of its inventors: Adel’son-Vel’skii and Landis\n",
    "    * Height-Balance Property: For every position p of T, the heights of the children of p differ by atmost 1"
   ]
  },
  {
   "cell_type": "markdown",
   "metadata": {},
   "source": [
    "## Splay Trees\n",
    "\n",
    "* A splay tree does not strictly enforce a logarithmic upper bound on the height of the tree. In fact, there are no additional height, balance, or other auxiliary data associated with the nodes of this tree\n",
    "* The efficiency of splay trees is due to a certain move-to-root operation, called splaying, that is performed at the bottommost position p reached during every insertion,\n",
    "deletion, or even a search\n",
    "* Intuitively, a splay operation causes more frequently accessed elements to remain nearer to the root, thereby reducing the typical search times. The surprising thing about splaying is that it allows us to guarantee a logarithmic amortized running time, for insertions, deletions, and searches"
   ]
  },
  {
   "cell_type": "markdown",
   "metadata": {},
   "source": [
    "## (2, 4) Trees\n",
    "\n",
    "* It is a particular example of a more general structure known as a multiway search tree, in which internal nodes may have more than two children\n",
    "* A multiway search tree that keeps the secondary data structures stored at each node small and also keeps the primary multiway tree balanced is the (2,4) tree, which is\n",
    "sometimes called a 2-4 tree or 2-3-4 tree. This data structure achieves these goals by maintaining two simple properties:\n",
    "    * Size Property: Every internal node has at most four children\n",
    "    * Depth Property: All the external nodes have the same depth"
   ]
  },
  {
   "cell_type": "markdown",
   "metadata": {},
   "source": [
    "## Red-Black Trees\n",
    "\n",
    "* Although AVL trees and (2,4) trees have a number of nice properties, they also have some disadvantages. For instance, AVL trees may require many restructure\n",
    "operations (rotations) to be performed after a deletion, and (2,4) trees may require many split or fusing operations to be performed after an insertion or removal\n",
    "* A red-black tree is a binary search tree with nodes colored red and black in a way that satisfies the following properties:\n",
    "    * Root Property: The root is black.\n",
    "    * Red Property: The children of a red node (if any) are black.\n",
    "    * Depth Property: All nodes with zero or one children have the same black depth, defined as the number of black ancestors. (Recall that a node is its own\n",
    "ancestor)\n",
    "* The primary advantage of a red-black tree is that an insertion or deletion requires only a constant number of restructuring operations. (This is in contrast\n",
    "to AVL trees and (2,4) trees, both of which require a logarithmic number of structural changes per map operation in the worst case)"
   ]
  }
 ],
 "metadata": {
  "kernelspec": {
   "display_name": "analytics_data_science",
   "language": "python",
   "name": "python3"
  },
  "language_info": {
   "codemirror_mode": {
    "name": "ipython",
    "version": 3
   },
   "file_extension": ".py",
   "mimetype": "text/x-python",
   "name": "python",
   "nbconvert_exporter": "python",
   "pygments_lexer": "ipython3",
   "version": "3.12.10"
  }
 },
 "nbformat": 4,
 "nbformat_minor": 2
}
