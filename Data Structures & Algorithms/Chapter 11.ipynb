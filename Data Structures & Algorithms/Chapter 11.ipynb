{
 "cells": [
  {
   "cell_type": "markdown",
   "metadata": {},
   "source": [
    "# Search Trees\n",
    "\n",
    "Key topics include:\n",
    "* Binary Search Trees\n",
    "* Balanced Search Trees\n",
    "* AVL Trees\n",
    "* Splay Trees\n",
    "* (2,4) Trees\n",
    "* Red-Black Trees"
   ]
  },
  {
   "cell_type": "code",
   "execution_count": 1,
   "metadata": {},
   "outputs": [],
   "source": [
    "# packages and data\n",
    "import pandas as pd, numpy as np"
   ]
  },
  {
   "cell_type": "markdown",
   "metadata": {},
   "source": [
    "## Binary Search Trees\n",
    "\n",
    "* Binary trees are an excellent data structure for storing items of a map, assuming we have an order relation defined on the keys\n",
    "* In this context, a binary search tree is a binary tree T with each position p storing a key-value pair (k,v) such that:\n",
    "    * Keys stored in the left subtree of p are less than k\n",
    "    * Keys stored in the right subtree of p are greater than k\n",
    "* The most important consequence of the structural property of a binary search tree is its namesake search algorithm. We can attempt to locate a particular key in a binary search tree by viewing it as a decision tree\n",
    "\n",
    "\n",
    "## Insertions & Deletions\n",
    "### Insertions\n",
    "* The map command M[k] = v, as supported by the setitem method, begins with a search for key k (assuming the map is nonempty). If found, that item’s existing value is reassigned. Otherwise, a node for the new item can be inserted into the underlying tree T in place of the empty subtree that was reached at the end of the failed search\n",
    "\n",
    "### Deletions\n",
    "* Deleting an item from a binary search tree T is a bit more complex than inserting a new item because the location of the deletion might be anywhere in the tree\n",
    "    * Simplest case scenario is a node with 1 child - the node is deleted and replaced with its child\n",
    "    * Worst case scenario is a node with 2 children, its deletion would leave 2 orphaned children"
   ]
  },
  {
   "cell_type": "markdown",
   "metadata": {},
   "source": [
    "## Performance Of A Binary Tree\n",
    "* A binary search tree an efficient implementation of a map with n entries only if its height is small\n",
    "* If we could assume a random series of insertions and removals, the standard binary search tree supports O(logn) expected running times for the basic map operations. However, we may only claim O(n) worst-case time, because some sequences of operations may lead to an unbalanced tree with height proportional to n\n",
    "* In the remainder of this chapter, we explore four search tree algorithms that provide stronger performance guarantees. Three of the four data structures (AVL\n",
    "trees, splay trees, and red-black trees) are based on augmenting a standard binary search tree with occasional operations to reshape the tree and reduce its height\n",
    "    * The primary operation to rebalance a binary search tree is known as a rotation - during a rotation, we “rotate” a child to be above its parent"
   ]
  },
  {
   "cell_type": "markdown",
   "metadata": {},
   "source": []
  }
 ],
 "metadata": {
  "kernelspec": {
   "display_name": "analytics_data_science",
   "language": "python",
   "name": "python3"
  },
  "language_info": {
   "codemirror_mode": {
    "name": "ipython",
    "version": 3
   },
   "file_extension": ".py",
   "mimetype": "text/x-python",
   "name": "python",
   "nbconvert_exporter": "python",
   "pygments_lexer": "ipython3",
   "version": "3.12.10"
  }
 },
 "nbformat": 4,
 "nbformat_minor": 2
}
