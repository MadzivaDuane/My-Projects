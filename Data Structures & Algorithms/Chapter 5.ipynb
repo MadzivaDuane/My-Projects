{
 "cells": [
  {
   "cell_type": "markdown",
   "metadata": {},
   "source": [
    "# Array Based Sequences\n",
    "\n",
    "Key topics:\n",
    "* Python sequence class: list, tuple, str\n",
    "* Low level arrays\n",
    "* Dynamic arrays and mortization\n",
    "* Efficiency of python sequence types\n",
    "* Using array based sequences"
   ]
  },
  {
   "cell_type": "code",
   "execution_count": 4,
   "metadata": {},
   "outputs": [],
   "source": [
    "# install packages\n",
    "from time import time\n",
    "import matplotlib.pyplot as plt"
   ]
  },
  {
   "cell_type": "markdown",
   "metadata": {},
   "source": [
    "Python’s implementation of the append method exhibits amortized constant-time behavior. We can demonstrate this fact experimentally:"
   ]
  },
  {
   "cell_type": "code",
   "execution_count": 9,
   "metadata": {},
   "outputs": [],
   "source": [
    "def compute_avg(n):\n",
    "    \"\"\"\n",
    "    perform n appends to an empty list and return average time elapsed\n",
    "    \"\"\"\n",
    "    data = []\n",
    "    start = time()\n",
    "    for k in range(n):\n",
    "        data.append(None)\n",
    "    end = time()\n",
    "\n",
    "    return (end - start)/ n"
   ]
  },
  {
   "cell_type": "code",
   "execution_count": 14,
   "metadata": {},
   "outputs": [
    {
     "data": {
      "image/png": "[encoded data removed]",
      "text/plain": [
       "<Figure size 432x288 with 1 Axes>"
      ]
     },
     "metadata": {
      "needs_background": "light"
     },
     "output_type": "display_data"
    }
   ],
   "source": [
    "# iterate over different ns and identify patterns\n",
    "ns = [100, 1000, 10000, 100000, 1000000]\n",
    "t = []\n",
    "for i in ns:\n",
    "    t.append(10**6*compute_avg(i))\n",
    "\n",
    "# plot\n",
    "plt.plot(ns, t)\n",
    "plt.xlabel('Number Of Appends')\n",
    "plt.ylabel('Average Time')\n",
    "plt.title('Amortized Cost Of Pythons Append')\n",
    "plt.show()"
   ]
  },
  {
   "cell_type": "markdown",
   "metadata": {},
   "source": [
    "We see higher average cost for the smaller data sets, perhaps in part due to the overhead of the loop range. There is also natural variance in measuring the amortized cost in this way, because of the impact of the final resize event relative to n. Taken as a whole, there seems clear evidence that the amortized time for each append is independent of n"
   ]
  },
  {
   "cell_type": "markdown",
   "metadata": {},
   "source": [
    "## Using Array Based Sequences\n",
    "\n",
    "### Application: Storing High Scores For A Game"
   ]
  },
  {
   "cell_type": "code",
   "execution_count": 15,
   "metadata": {},
   "outputs": [],
   "source": [
    "\"\"\"\n",
    "Python code for a simple GameEntry class. We include methods for returning the name and score for a game entry object, as well as a method\n",
    "for returning a string representation of this entry.\n",
    "\"\"\"\n",
    "\n",
    "class GameEntry():\n",
    "    \"\"\"\n",
    "    represents one entry of a game score\n",
    "    \"\"\"\n",
    "    def __init__(self, name, score):\n",
    "        self._name = name\n",
    "        self._score = score\n",
    "\n",
    "    def get_name(self):\n",
    "        return self._name\n",
    "    \n",
    "    def get_score(self):\n",
    "        return self._score\n",
    "    \n",
    "    def __str__ (self):\n",
    "        return '({0}, {1})'.format(self._name, self._score) # e.g., (Bob, 98)"
   ]
  },
  {
   "cell_type": "code",
   "execution_count": null,
   "metadata": {},
   "outputs": [],
   "source": [
    "\"\"\"\n",
    "To maintain a sequence of high scores, we develop a class named Scoreboard. A scoreboard is limited to a certain number of high scores that can be saved; once that\n",
    "limit is reached, a new score only qualifies for the scoreboard if it is strictly higher than the lowest “high score” on the board\n",
    "\"\"\"\n",
    "\n",
    "class Scoreboard():\n",
    "\n",
    "    \"\"\"\n",
    "    fixed-length sequence of high scores in nondecreasing order\n",
    "    \"\"\"\n",
    "    def __init__(self, capacity = 10):\n",
    "        \"\"\"\n",
    "        initialize scoreboard with given maximum capacity\n",
    "        all entries are initially None\n",
    "        \"\"\"\n",
    "        self._board = [None]*capacity # reserve space for future entries\n",
    "        self._n = 0 # number of actual entries\n",
    "\n",
    "    def __getitem__(self, k):\n",
    "        \"\"\"return entry at index k\"\"\"\n",
    "        return self._board[k]\n",
    "    \n",
    "    def __str__ (self):\n",
    "        \"\"\"return string representation of the high score list\"\"\"\n",
    "        return '\\n'.join(str(self._board[j]) for j in range(self._n))\n",
    "    \n",
    "    def add(self, entry):\n",
    "        \"\"\"consider adding score to high scores\"\"\"\n",
    "        score = entry.get_score()\n",
    "\n",
    "        # assess if new score qualifies for high score\n",
    "        # answer is yes if board not full or score is higher than last entry\n",
    "        good = self._n < len(self._board) or score > self._board[-1].get_score()\n",
    "\n",
    "        if good:\n",
    "            if self._n < len(self._board): # no score drops from the list\n",
    "                self._n += 1 # increase number of entries by 1\n",
    "        \n",
    "        # shift lower scores rightward to make room for new entry\n",
    "        j = self._n - 1\n",
    "        while j > 0 and self._board[j-1].get_score() < score:\n",
    "            self._board[j] = self._board[j-1] # shift entry from j-1 to j\n",
    "            j -= 1 # add decrement j\n",
    "            self._board[j] = entry # when done, add new entry"
   ]
  },
  {
   "cell_type": "code",
   "execution_count": null,
   "metadata": {},
   "outputs": [],
   "source": []
  }
 ],
 "metadata": {
  "kernelspec": {
   "display_name": "Python 3",
   "language": "python",
   "name": "python3"
  },
  "language_info": {
   "codemirror_mode": {
    "name": "ipython",
    "version": 3
   },
   "file_extension": ".py",
   "mimetype": "text/x-python",
   "name": "python",
   "nbconvert_exporter": "python",
   "pygments_lexer": "ipython3",
   "version": "3.7.3"
  }
 },
 "nbformat": 4,
 "nbformat_minor": 2
}
